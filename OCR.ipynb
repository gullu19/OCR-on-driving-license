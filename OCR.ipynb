{
 "cells": [
  {
   "cell_type": "code",
   "execution_count": 2,
   "id": "54e4e84b",
   "metadata": {},
   "outputs": [
    {
     "name": "stderr",
     "output_type": "stream",
     "text": [
      "Using CPU. Note: This module is much faster with a GPU.\n"
     ]
    }
   ],
   "source": [
    "import os\n",
    "import easyocr\n",
    "import cv2\n",
    "\n",
    "# Set input and output folder paths\n",
    "INPUT_FOLDER_PATH = \"C:/Users/Admin/Documents/AI Engineer - ProductizeTech Assignment/License Images\"\n",
    "OUTPUT_FOLDER_PATH = \"C:/Users/Admin/Documents/AI Engineer - ProductizeTech Assignment/all_outputs/Task 3/output\"\n",
    "\n",
    "# Create the output folder if it doesn't exist\n",
    "os.makedirs(OUTPUT_FOLDER_PATH, exist_ok=True)\n",
    "\n",
    "# Initialize the OCR reader\n",
    "reader = easyocr.Reader(['en'], gpu=False)\n",
    "\n",
    "# Process images in the input folder\n",
    "for filename in os.listdir(INPUT_FOLDER_PATH):\n",
    "    if filename.endswith('.jpg') or filename.endswith('.jpeg') or filename.endswith('.png'):\n",
    "        image_path = os.path.join(INPUT_FOLDER_PATH, filename)\n",
    "        img = cv2.imread(image_path)\n",
    "\n",
    "        # Perform OCR on the image\n",
    "        result = reader.readtext(image_path)\n",
    "\n",
    "        # Draw bounding boxes and text on the image\n",
    "        for i in result:\n",
    "            top_left = tuple([int(val) for val in i[0][0]])\n",
    "            bottom_right = tuple([int(val) for val in i[0][2]])\n",
    "            text = i[1]\n",
    "            font = cv2.FONT_HERSHEY_SIMPLEX\n",
    "            img = cv2.rectangle(img, top_left, bottom_right, (0,0, 255), 3)\n",
    "            img = cv2.putText(img, text, top_left, font, 1, (0,255, 0), 1, cv2.LINE_AA)\n",
    "\n",
    "        # Save the processed image in the output folder\n",
    "        output_image_path = os.path.join(OUTPUT_FOLDER_PATH, f'result_{filename}')\n",
    "        cv2.imwrite(output_image_path, img)\n"
   ]
  },
  {
   "cell_type": "code",
   "execution_count": null,
   "id": "734e5092",
   "metadata": {},
   "outputs": [],
   "source": []
  }
 ],
 "metadata": {
  "kernelspec": {
   "display_name": "Python 3 (ipykernel)",
   "language": "python",
   "name": "python3"
  },
  "language_info": {
   "codemirror_mode": {
    "name": "ipython",
    "version": 3
   },
   "file_extension": ".py",
   "mimetype": "text/x-python",
   "name": "python",
   "nbconvert_exporter": "python",
   "pygments_lexer": "ipython3",
   "version": "3.9.16"
  }
 },
 "nbformat": 4,
 "nbformat_minor": 5
}
